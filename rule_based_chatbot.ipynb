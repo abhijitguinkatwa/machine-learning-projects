{
  "cells": [
    {
      "cell_type": "markdown",
      "metadata": {
        "id": "view-in-github",
        "colab_type": "text"
      },
      "source": [
        "<a href=\"https://colab.research.google.com/github/abhijitguinkatwa/machine-learning-projects/blob/main/rule_based_chatbot.ipynb\" target=\"_parent\"><img src=\"https://colab.research.google.com/assets/colab-badge.svg\" alt=\"Open In Colab\"/></a>"
      ]
    },
    {
      "cell_type": "code",
      "execution_count": null,
      "metadata": {
        "colab": {
          "background_save": true,
          "base_uri": "https://localhost:8080/"
        },
        "id": "VF2pjlEZk7wh",
        "outputId": "fde9a7bd-f718-4117-fc7f-a24f9f350fd7"
      },
      "outputs": [
        {
          "name": "stderr",
          "output_type": "stream",
          "text": [
            "[nltk_data] Downloading package stopwords to /root/nltk_data...\n",
            "[nltk_data]   Unzipping corpora/stopwords.zip.\n"
          ]
        }
      ],
      "source": [
        "import nltk\n",
        "import nltk\n",
        "nltk.download('stopwords')\n",
        "\n",
        "# Lemmatizer for word normalization\n",
        "lemmatizer = WordNetLemmatizer()\n",
        "\n",
        "# Stop words list\n",
        "stop_words = set(stopwords.words(\"english\"))\n",
        "\n",
        "# Define response templates\n",
        "response_templates = {\n",
        "    \"greeting\": [\n",
        "        \"Hi there! How can I assist you today?\",\n",
        "        \"Welcome to our CRM service. What would you like me to help you with?\",\n",
        "    ],\n",
        "    \"support\": [\n",
        "        \"Please tell me more about the issue you're facing.\",\n",
        "        \"I'd be happy to help you troubleshoot this problem.\",\n",
        "    ],\n",
        "    \"feedback\": [\n",
        "        \"Thank you for your feedback! We'll take it into consideration.\",\n",
        "        \"We appreciate you taking the time to share your thoughts.\",\n",
        "    ],\n",
        "    \"default\": [\n",
        "        \"I'm sorry, I don't understand what you mean.\",\n",
        "        \"Can you please rephrase your question?\",\n",
        "    ],\n",
        "}\n",
        "\n",
        "def preprocess_text(text):\n",
        "    \"\"\"\n",
        "    Preprocess text by removing stop words, lemmatizing, and converting to lowercase.\n",
        "    \"\"\"\n",
        "    text = text.lower()\n",
        "    words = nltk.word_tokenize(text)\n",
        "    words = [lemmatizer.lemmatize(word) for word in words]\n",
        "    filtered_words = [word for word in words if word not in stop_words]\n",
        "    return \" \".join(filtered_words)\n",
        "\n",
        "def get_response(user_input):\n",
        "    \"\"\"\n",
        "    Process user input, identify the intent, and generate a response based on the response templates.\n",
        "    \"\"\"\n",
        "    preprocessed_text = preprocess_text(user_input)\n",
        "\n",
        "    # Use NLP techniques to identify intent and entities (optional)\n",
        "\n",
        "    # Choose appropriate response template based on the identified intent\n",
        "    if \"support\" in preprocessed_text:\n",
        "        response_type = \"support\"\n",
        "    elif \"feedback\" in preprocessed_text:\n",
        "        response_type = \"feedback\"\n",
        "    else:\n",
        "        response_type = \"default\"\n",
        "\n",
        "    # Choose a random response from the selected template\n",
        "    response = random.choice(response_templates[response_type])\n",
        "\n",
        "    # (Optional) Further customize the response based on entities\n",
        "\n",
        "    return response\n",
        "\n",
        "# Main loop\n",
        "while True:\n",
        "    user_input = input(\"> \")\n",
        "    response = get_response(user_input)\n",
        "    print(response)\n"
      ]
    }
  ],
  "metadata": {
    "colab": {
      "provenance": [],
      "authorship_tag": "ABX9TyO2TN+dv5ugWU/VdV6a83fl",
      "include_colab_link": true
    },
    "kernelspec": {
      "display_name": "Python 3",
      "name": "python3"
    },
    "language_info": {
      "name": "python"
    }
  },
  "nbformat": 4,
  "nbformat_minor": 0
}