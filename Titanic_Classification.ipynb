{
  "nbformat": 4,
  "nbformat_minor": 0,
  "metadata": {
    "colab": {
      "provenance": [],
      "authorship_tag": "ABX9TyOk9aO5KWphYvOuGR58fJbJ",
      "include_colab_link": true
    },
    "kernelspec": {
      "name": "python3",
      "display_name": "Python 3"
    },
    "language_info": {
      "name": "python"
    }
  },
  "cells": [
    {
      "cell_type": "markdown",
      "metadata": {
        "id": "view-in-github",
        "colab_type": "text"
      },
      "source": [
        "<a href=\"https://colab.research.google.com/github/abhijitguinkatwa/machine-learning-projects/blob/main/Titanic_Classification.ipynb\" target=\"_parent\"><img src=\"https://colab.research.google.com/assets/colab-badge.svg\" alt=\"Open In Colab\"/></a>"
      ]
    },
    {
      "cell_type": "code",
      "execution_count": null,
      "metadata": {
        "id": "pcrvJj2gCTMP"
      },
      "outputs": [],
      "source": [
        "# Import necessary libraries\n",
        "import pandas as pd\n",
        "import numpy as np\n",
        "from sklearn.model_selection import train_test_split\n",
        "from sklearn.ensemble import RandomForestClassifier\n",
        "from sklearn.metrics import accuracy_score, classification_report, confusion_matrix\n",
        "from sklearn.impute import SimpleImputer\n",
        "from sklearn.preprocessing import StandardScaler\n",
        "\n",
        "# Step 1: Load and explore the dataset\n",
        "# Assuming you have a CSV file with columns 'Survived', 'Pclass', 'Sex', 'Age', 'SibSp', 'Parch', 'Fare'\n",
        "titanic_data = pd.read_csv('titanic_data.csv')\n",
        "\n",
        "# Display the first few rows of the dataset\n",
        "print(titanic_data.head())\n",
        "\n",
        "# Step 2: Data Preprocessing\n",
        "# Handle missing values, convert categorical variables to numerical, and scale numerical features\n",
        "\n",
        "# 2.1: Handle missing values in 'Age' and 'Fare' columns\n",
        "imputer = SimpleImputer(strategy='mean')\n",
        "titanic_data['Age'] = imputer.fit_transform(titanic_data[['Age']])\n",
        "titanic_data['Fare'] = imputer.fit_transform(titanic_data[['Fare']])\n",
        "\n",
        "# 2.2: Convert 'Sex' column to numerical values\n",
        "titanic_data['Sex'] = titanic_data['Sex'].map({'male': 0, 'female': 1})\n",
        "\n",
        "# 2.3: Scale numerical features using StandardScaler\n",
        "scaler = StandardScaler()\n",
        "numerical_features = ['Pclass', 'Age', 'SibSp', 'Parch', 'Fare']\n",
        "titanic_data[numerical_features] = scaler.fit_transform(titanic_data[numerical_features])\n",
        "\n",
        "# Step 3: Train-Test Split\n",
        "# Split the dataset into training and testing sets\n",
        "X = titanic_data.drop('Survived', axis=1)\n",
        "y = titanic_data['Survived']\n",
        "X_train, X_test, y_train, y_test = train_test_split(X, y, test_size=0.2, random_state=42)\n",
        "\n",
        "# Step 4: Build and Train the Classifier\n",
        "# Use a Random Forest classifier for predicting survival\n",
        "classifier = RandomForestClassifier(n_estimators=100, random_state=42)\n",
        "classifier.fit(X_train, y_train)\n",
        "\n",
        "# Step 5: Make Predictions\n",
        "# Predict labels for the test set\n",
        "y_pred = classifier.predict(X_test)\n",
        "\n",
        "# Step 6: Evaluate the Model\n",
        "# Calculate accuracy and display classification report and confusion matrix\n",
        "accuracy = accuracy_score(y_test, y_pred)\n",
        "print(f\"Accuracy: {accuracy:.2f}\")\n",
        "\n",
        "print(\"Classification Report:\")\n",
        "print(classification_report(y_test, y_pred))\n",
        "\n",
        "print(\"Confusion Matrix:\")\n",
        "print(confusion_matrix(y_test, y_pred))\n"
      ]
    }
  ]
}