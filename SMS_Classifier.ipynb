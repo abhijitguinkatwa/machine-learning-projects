{
  "nbformat": 4,
  "nbformat_minor": 0,
  "metadata": {
    "colab": {
      "provenance": [],
      "authorship_tag": "ABX9TyMTVs5vFifzVQgReeL7fY1O",
      "include_colab_link": true
    },
    "kernelspec": {
      "name": "python3",
      "display_name": "Python 3"
    },
    "language_info": {
      "name": "python"
    }
  },
  "cells": [
    {
      "cell_type": "markdown",
      "metadata": {
        "id": "view-in-github",
        "colab_type": "text"
      },
      "source": [
        "<a href=\"https://colab.research.google.com/github/abhijitguinkatwa/machine-learning-projects/blob/main/SMS_Classifier.ipynb\" target=\"_parent\"><img src=\"https://colab.research.google.com/assets/colab-badge.svg\" alt=\"Open In Colab\"/></a>"
      ]
    },
    {
      "cell_type": "code",
      "execution_count": null,
      "metadata": {
        "id": "FGFRFVypDsGg"
      },
      "outputs": [],
      "source": [
        "# Import necessary libraries\n",
        "import pandas as pd\n",
        "from sklearn.model_selection import train_test_split\n",
        "from sklearn.feature_extraction.text import CountVectorizer\n",
        "from sklearn.naive_bayes import MultinomialNB\n",
        "from sklearn.metrics import accuracy_score, classification_report, confusion_matrix\n",
        "\n",
        "# Step 1: Load and explore the dataset\n",
        "# Assuming you have a CSV file with columns 'label' and 'text'\n",
        "sms_data = pd.read_csv('sms_data.csv')\n",
        "\n",
        "# Display the first few rows of the dataset\n",
        "print(sms_data.head())\n",
        "\n",
        "# Step 2: Data Preprocessing\n",
        "# Assuming 'label' column contains 'spam' or 'ham' values\n",
        "# Convert labels to binary values: 1 for spam, 0 for non-spam\n",
        "sms_data['label'] = sms_data['label'].map({'spam': 1, 'ham': 0})\n",
        "\n",
        "# Step 3: Train-Test Split\n",
        "# Split the dataset into training and testing sets\n",
        "X_train, X_test, y_train, y_test = train_test_split(sms_data['text'], sms_data['label'], test_size=0.2, random_state=42)\n",
        "\n",
        "# Step 4: Text Vectorization\n",
        "# Convert text data into numerical format using CountVectorizer\n",
        "vectorizer = CountVectorizer()\n",
        "X_train_vectorized = vectorizer.fit_transform(X_train)\n",
        "X_test_vectorized = vectorizer.transform(X_test)\n",
        "\n",
        "# Step 5: Build and Train the Classifier\n",
        "# Use a simple Naive Bayes classifier for text classification\n",
        "classifier = MultinomialNB()\n",
        "classifier.fit(X_train_vectorized, y_train)\n",
        "\n",
        "# Step 6: Make Predictions\n",
        "# Predict labels for the test set\n",
        "y_pred = classifier.predict(X_test_vectorized)\n",
        "\n",
        "# Step 7: Evaluate the Model\n",
        "# Calculate accuracy and display classification report and confusion matrix\n",
        "accuracy = accuracy_score(y_test, y_pred)\n",
        "print(f\"Accuracy: {accuracy:.2f}\")\n",
        "\n",
        "print(\"Classification Report:\")\n",
        "print(classification_report(y_test, y_pred))\n",
        "\n",
        "print(\"Confusion Matrix:\")\n",
        "print(confusion_matrix(y_test, y_pred))\n"
      ]
    }
  ]
}